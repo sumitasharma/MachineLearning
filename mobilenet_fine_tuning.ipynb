{
  "nbformat": 4,
  "nbformat_minor": 0,
  "metadata": {
    "colab": {
      "name": "mobilenet_fine_tuning",
      "version": "0.3.2",
      "provenance": [],
      "include_colab_link": true
    },
    "kernelspec": {
      "name": "python3",
      "display_name": "Python 3"
    },
    "accelerator": "GPU"
  },
  "cells": [
    {
      "cell_type": "markdown",
      "metadata": {
        "id": "view-in-github",
        "colab_type": "text"
      },
      "source": [
        "<a href=\"https://colab.research.google.com/github/sumitasharma/MachineLearning/blob/master/mobilenet_fine_tuning.ipynb\" target=\"_parent\"><img src=\"https://colab.research.google.com/assets/colab-badge.svg\" alt=\"Open In Colab\"/></a>"
      ]
    },
    {
      "metadata": {
        "id": "AmgaJrgHSp46",
        "colab_type": "code",
        "colab": {}
      },
      "cell_type": "code",
      "source": [
        "!pip install np_utils\n",
        "!pip install scikit-image\n",
        "import keras\n",
        "import skimage\n",
        "from skimage import transform\n",
        "from keras import backend as k\n",
        "from keras.layers.core import Dense, Activation\n",
        "from keras.optimizers import Adam\n",
        "from keras.layers import Input\n",
        "from keras.metrics import categorical_crossentropy\n",
        "from keras.preprocessing.image import ImageDataGenerator\n",
        "from keras.preprocessing import image\n",
        "from keras.models import Sequential, Model\n",
        "from keras.applications import imagenet_utils\n",
        "from keras.layers import Dense,GlobalAveragePooling2D\n",
        "from keras.applications import MobileNet\n",
        "from keras.applications.mobilenet import preprocess_input\n",
        "import numpy as np\n",
        "from IPython.display import Image\n",
        "from keras.utils.np_utils import to_categorical\n",
        "from keras.utils import np_utils"
      ],
      "execution_count": 0,
      "outputs": []
    },
    {
      "metadata": {
        "id": "8Wp93JrCVdFC",
        "colab_type": "code",
        "colab": {}
      },
      "cell_type": "code",
      "source": [
        "mobile = keras.applications.mobilenet.MobileNet()\n",
        "def prepare_image(file):\n",
        "    img_path = ''\n",
        "    img = image.load_img(img_path+file,target_size=(224,224))\n",
        "    img_array = image.img_to_array(img)\n",
        "    img_array_expanded_dims = np.expand_dims(img_array, axis = 0)\n",
        "    return keras.applications.mobilenet.preprocess_input(img_array_expanded_dims)\n"
      ],
      "execution_count": 0,
      "outputs": []
    },
    {
      "metadata": {
        "id": "ml_wo20ZoVve",
        "colab_type": "code",
        "colab": {}
      },
      "cell_type": "code",
      "source": [
        "#!mv /content/panda_pic.jfif /content/panda_pic.png\n",
        "Image(filename='/content/img-india-rhino.jpg')"
      ],
      "execution_count": 0,
      "outputs": []
    },
    {
      "metadata": {
        "id": "p-lu0EC-pi0G",
        "colab_type": "code",
        "colab": {}
      },
      "cell_type": "code",
      "source": [
        "predictions = mobile.predict(prepare_image('/content/img-india-rhino.jpg'))\n",
        "results = imagenet_utils.decode_predictions(predictions)\n",
        "results"
      ],
      "execution_count": 0,
      "outputs": []
    },
    {
      "metadata": {
        "id": "qihnrD_jqZQS",
        "colab_type": "text"
      },
      "cell_type": "markdown",
      "source": [
        "Transfer Learning. Fine_tuning mobilenet."
      ]
    },
    {
      "metadata": {
        "id": "pBz43QhAqipg",
        "colab_type": "code",
        "colab": {}
      },
      "cell_type": "code",
      "source": [
        "mobile.summary()"
      ],
      "execution_count": 0,
      "outputs": []
    },
    {
      "metadata": {
        "id": "goF1I5E-u-h8",
        "colab_type": "code",
        "colab": {}
      },
      "cell_type": "code",
      "source": [
        "# Download 101 Objects Database\n",
        "!curl -O http://www.vision.caltech.edu/Image_Datasets/Caltech101/101_ObjectCategories.tar.gz"
      ],
      "execution_count": 0,
      "outputs": []
    },
    {
      "metadata": {
        "id": "cBKg0uEmvP9g",
        "colab_type": "code",
        "colab": {}
      },
      "cell_type": "code",
      "source": [
        "!tar -C /content -zxvf /content/\"101_ObjectCategories.tar.gz\""
      ],
      "execution_count": 0,
      "outputs": []
    },
    {
      "metadata": {
        "id": "3oMmSZjtcsrL",
        "colab_type": "code",
        "colab": {}
      },
      "cell_type": "code",
      "source": [
        "import numpy as np\n",
        "import os\n",
        "import random\n",
        "import shutil\n",
        "\n",
        "def chooseRandomFiles(dir):\n",
        "  \n",
        "  # print(\"dir is \" + dir)\n",
        "  # print (os.listdir(dir))\n",
        "  # list all files in dir\n",
        "  files = os.listdir(dir)\n",
        "\n",
        "  # select 0.1 of the files randomly \n",
        "  # random_files = np.random.choice(files, int(len(files)*.1))\n",
        "  # Select 10 random files \n",
        "  random_files = random.sample(files, 10)\n",
        "  #print (random_files)\n",
        "  \n",
        "  return random_files\n",
        "  \n",
        "src_dir = \"/content/101_ObjectCategories\"\n",
        "test_dir = \"/content/ModelData/test\"\n",
        "train_dir = \"/content/ModelData/train\"\n",
        "\n",
        "# Walk the directory tree recursively and store subdirectories\n",
        "# in a list.\n",
        "dir_list = []\n",
        "for path, subdirs, files in os.walk(src_dir):\n",
        "  for name in subdirs:\n",
        "      #print(os.path.join(src_dir, name))\n",
        "      dir_list.append(os.path.join(src_dir, name))\n",
        "#print (dir_list)\n",
        "\n",
        "full_path = []\n",
        "# Select full source path of the files to move\n",
        "for dir in dir_list:\n",
        "  files = chooseRandomFiles(dir)\n",
        "  for file in files:\n",
        "    full_path.append(os.path.join(dir,file))\n",
        "    #print(full_path)\n",
        "    \n",
        "# Move files from source to test\n",
        "\n",
        "for path in full_path:\n",
        "  # print(path.split(sep='/'))\n",
        "  # ['', 'content', '101_ObjectCategories', 'stapler', 'image_0036.jpg']\n",
        "  src_path = path\n",
        "  print(\"src_path:\" + src_path)\n",
        "  temp_dest_path = path.split(sep='/')\n",
        "  \n",
        "  test_path = os.path.join(test_dir, temp_dest_path[-2], temp_dest_path[-1] )\n",
        "  print(\"test_path:\" + test_path)\n",
        "  \n",
        "  os.renames(src_path, test_path)\n",
        "  \n",
        "\n",
        "# Copy rest of the file from source to train\n",
        "try:\n",
        "  shutil.copytree(src_dir, train_dir)\n",
        "  # Directories are the same\n",
        "except shutil.Error as e:\n",
        "  print('Directory not copied. Error: %s' % e)\n",
        "  # Any error saying that the directory doesn't exist\n",
        "except OSError as e:\n",
        "  print('Directory not copied. Error: %s' % e)"
      ],
      "execution_count": 0,
      "outputs": []
    },
    {
      "metadata": {
        "id": "FQycf13uAEUi",
        "colab_type": "code",
        "colab": {}
      },
      "cell_type": "code",
      "source": [
        "type(mobile)"
      ],
      "execution_count": 0,
      "outputs": []
    },
    {
      "metadata": {
        "id": "RPFWSwLl9Fzt",
        "colab_type": "code",
        "colab": {}
      },
      "cell_type": "code",
      "source": [
        "# mobile.summary()\n",
        "# new_model = Sequential()\n",
        "# for layer in mobile.layers[:-1]:\n",
        "#   new_model.add(layer)\n",
        "  \n",
        "# for layer in new_model.layers:\n",
        "#   layer.trainable = False\n",
        "  \n",
        "\n",
        "# new_model.add(Dense(102, activation = 'softmax'))\n",
        "\n",
        "# new_model.summary()\n",
        "\n",
        "base_model=MobileNet(weights='imagenet',include_top=False) #imports the mobilenet model and discards the last 1000 neuron layer.\n",
        "\n",
        "x=base_model.output\n",
        "x=GlobalAveragePooling2D()(x)\n",
        "x=Dense(1024,activation='relu')(x) #we add dense layers so that the model can learn more complex functions and classify for better results.\n",
        "x=Dense(1024,activation='relu')(x) #dense layer 2\n",
        "x=Dense(512,activation='relu')(x) #dense layer 3\n",
        "preds=Dense(102,activation='softmax')(x) #final layer with softmax activation\n",
        "\n",
        "model=Model(inputs=base_model.input,outputs=preds)\n",
        "\n"
      ],
      "execution_count": 0,
      "outputs": []
    },
    {
      "metadata": {
        "id": "PBQf2gacssro",
        "colab_type": "code",
        "colab": {}
      },
      "cell_type": "code",
      "source": [
        "model.summary()\n",
        "\n",
        "# for layer in model.layers:\n",
        "#     layer.trainable=False\n",
        "# or if we want to set the first 20 layers of the network to be non-trainable\n",
        "for layer in model.layers[:20]:\n",
        "    layer.trainable=False\n",
        "for layer in model.layers[20:]:\n",
        "    layer.trainable=True"
      ],
      "execution_count": 0,
      "outputs": []
    },
    {
      "metadata": {
        "id": "NdQsJJjGP0cD",
        "colab_type": "code",
        "colab": {}
      },
      "cell_type": "code",
      "source": [
        "model.compile(Adam(lr=0.0001), loss='categorical_crossentropy', metrics=['accuracy'])"
      ],
      "execution_count": 0,
      "outputs": []
    },
    {
      "metadata": {
        "id": "F7WDU5dcON9w",
        "colab_type": "code",
        "colab": {}
      },
      "cell_type": "code",
      "source": [
        "train_datagen = ImageDataGenerator(\n",
        "        #rescale=1./255,\n",
        "        shear_range=0.2,\n",
        "        zoom_range=0.2,\n",
        "        horizontal_flip=True)\n",
        "\n",
        "test_datagen = ImageDataGenerator()\n",
        "\n",
        "train_generator = train_datagen.flow_from_directory(\n",
        "        '/content/ModelData/train',\n",
        "        target_size=(224, 224),\n",
        "        batch_size=32,\n",
        "        class_mode=\"categorical\")\n",
        "\n",
        "validation_generator = test_datagen.flow_from_directory(\n",
        "        '/content/ModelData/test',\n",
        "        target_size=(224, 224),\n",
        "        batch_size=32,\n",
        "        class_mode=\"categorical\")\n",
        "\n",
        "\n",
        "\n",
        "model.fit_generator(\n",
        "        train_generator,\n",
        "        steps_per_epoch=50,\n",
        "        epochs=50,\n",
        "        validation_data=validation_generator,\n",
        "        validation_steps=50)"
      ],
      "execution_count": 0,
      "outputs": []
    },
    {
      "metadata": {
        "id": "KI7r7sCrJMOA",
        "colab_type": "code",
        "colab": {}
      },
      "cell_type": "code",
      "source": [
        "## Get label map from train generator\n",
        "label_map = (train_generator.class_indices)\n",
        "label_map\n",
        "\n",
        "## Invert the map so that you can look up by class later\n",
        "inv_label_map = dict([[v,k] for k,v in label_map.items()])\n",
        "inv_label_map"
      ],
      "execution_count": 0,
      "outputs": []
    },
    {
      "metadata": {
        "id": "sJmqCn0Qv8VS",
        "colab_type": "code",
        "colab": {}
      },
      "cell_type": "code",
      "source": [
        "import matplotlib.pyplot as plt\n",
        "\n",
        "#predictions = model.predict(prepare_image('/content/faces.jpg'))\n",
        "predictions = model.predict(prepare_image('/content/ModelData/test/airplanes/image_0009.jpg'))\n",
        "\n",
        "np.set_printoptions(suppress=True)\n",
        "classes = predictions.argmax(axis=-1)\n",
        "\n",
        "classes.flat[0]\n",
        "print(inv_label_map[classes.flat[0]])"
      ],
      "execution_count": 0,
      "outputs": []
    },
    {
      "metadata": {
        "id": "gzLY5On0y013",
        "colab_type": "code",
        "colab": {}
      },
      "cell_type": "code",
      "source": [
        "from keras.models import load_model\n",
        "\n",
        "model.save('/content/mobilenet_fine_tuning_101_objectcategory_model.h5')"
      ],
      "execution_count": 0,
      "outputs": []
    }
  ]
}