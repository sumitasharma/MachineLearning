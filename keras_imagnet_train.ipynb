{
  "nbformat": 4,
  "nbformat_minor": 0,
  "metadata": {
    "colab": {
      "name": "keras_imagnet_train",
      "version": "0.3.2",
      "provenance": [],
      "include_colab_link": true
    },
    "kernelspec": {
      "name": "python3",
      "display_name": "Python 3"
    }
  },
  "cells": [
    {
      "cell_type": "markdown",
      "metadata": {
        "id": "view-in-github",
        "colab_type": "text"
      },
      "source": [
        "<a href=\"https://colab.research.google.com/github/sumitasharma/MachineLearning/blob/master/keras_imagnet_train.ipynb\" target=\"_parent\"><img src=\"https://colab.research.google.com/assets/colab-badge.svg\" alt=\"Open In Colab\"/></a>"
      ]
    },
    {
      "metadata": {
        "id": "C_IK37fSZjSx",
        "colab_type": "code",
        "colab": {}
      },
      "cell_type": "code",
      "source": [
        "from google.colab import drive\n",
        "drive.mount('/content/gdrive')"
      ],
      "execution_count": 0,
      "outputs": []
    },
    {
      "metadata": {
        "id": "G37QihuTF_vh",
        "colab_type": "code",
        "colab": {}
      },
      "cell_type": "code",
      "source": [
        "import keras\n",
        "import numpy as np\n",
        "from keras.applications import vgg16, resnet50, inception_v3, mobilenet\n",
        "\n",
        "vgg_model = vgg16.VGG16(weights='imagenet')\n",
        "\n",
        "resnet_model = resnet50.ResNet50(weights='imagenet')\n",
        "\n",
        "inception_model = inception_v3.InceptionV3(weights='imagenet')\n",
        "\n",
        "mobilenet_model = mobilenet.MobileNet(weights='imagenet')\n",
        "\n"
      ],
      "execution_count": 0,
      "outputs": []
    },
    {
      "metadata": {
        "id": "aZmF7vv8U2oN",
        "colab_type": "code",
        "colab": {}
      },
      "cell_type": "code",
      "source": [
        "from keras.preprocessing.image import load_img\n",
        "from keras.preprocessing.image import img_to_array\n",
        "from keras.applications.imagenet_utils import decode_predictions\n",
        "import matplotlib.pyplot as plt\n",
        "import numpy as np\n",
        "%matplotlib inline\n",
        "\n",
        "filename = '/content/gdrive/My Drive/Colab Notebooks/catie.jfif'\n",
        "original = load_img(filename, target_size=(224,224))\n",
        "plt.imshow(original)\n",
        "plt.show()\n",
        "\n",
        "numpy_image = img_to_array(original)\n",
        "plt.imshow(np.uint8(numpy_image))\n",
        "plt.show()\n",
        "print('numpy array size',numpy_image.shape)\n",
        "\n",
        "image_batch = np.expand_dims(numpy_image, axis=0)\n",
        "print('image batch size', image_batch.shape)\n",
        "plt.imshow(np.uint8(image_batch[0]))"
      ],
      "execution_count": 0,
      "outputs": []
    },
    {
      "metadata": {
        "id": "pcbseRaseCmA",
        "colab_type": "code",
        "colab": {}
      },
      "cell_type": "code",
      "source": [
        "processed_image = vgg16.preprocess_input(image_batch.copy())\n",
        "predictions = vgg_model.predict(processed_image)\n",
        "label = decode_predictions(predictions)\n",
        "print('\\n'.join('{}'.format(item) for item in label))"
      ],
      "execution_count": 0,
      "outputs": []
    },
    {
      "metadata": {
        "id": "PQWcOgvHimcK",
        "colab_type": "code",
        "colab": {}
      },
      "cell_type": "code",
      "source": [
        "processed_image = resnet50.preprocess_input(image_batch.copy())\n",
        "predictions = resnet_model.predict(processed_image)\n",
        "label = decode_predictions(predictions)\n",
        "print('\\n'.join('{}'.format(item) for item in label))"
      ],
      "execution_count": 0,
      "outputs": []
    },
    {
      "metadata": {
        "id": "0t5DdeOninKx",
        "colab_type": "code",
        "colab": {}
      },
      "cell_type": "code",
      "source": [
        "processed_image = inception_v3.preprocess_input(image_batch.copy())\n",
        "predictions = inception_model.predict(processed_image)\n",
        "label = decode_predictions(predictions)\n",
        "print('\\n'.join('{}'.format(item) for item in label))"
      ],
      "execution_count": 0,
      "outputs": []
    },
    {
      "metadata": {
        "id": "I_R2uyaMinuT",
        "colab_type": "code",
        "colab": {}
      },
      "cell_type": "code",
      "source": [
        "processed_image = mobilenet.preprocess_input(image_batch.copy())\n",
        "predictions = mobilenet_model.predict(processed_image)\n",
        "label = decode_predictions(predictions)\n",
        "print('\\n'.join('{}'.format(item) for item in label))"
      ],
      "execution_count": 0,
      "outputs": []
    }
  ]
}