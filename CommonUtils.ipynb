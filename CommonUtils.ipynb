{
  "nbformat": 4,
  "nbformat_minor": 0,
  "metadata": {
    "colab": {
      "name": "CommonUtils",
      "version": "0.3.2",
      "provenance": [],
      "include_colab_link": true
    },
    "kernelspec": {
      "name": "python3",
      "display_name": "Python 3"
    }
  },
  "cells": [
    {
      "cell_type": "markdown",
      "metadata": {
        "id": "view-in-github",
        "colab_type": "text"
      },
      "source": [
        "<a href=\"https://colab.research.google.com/github/sumitasharma/MachineLearning/blob/master/CommonUtils.ipynb\" target=\"_parent\"><img src=\"https://colab.research.google.com/assets/colab-badge.svg\" alt=\"Open In Colab\"/></a>"
      ]
    },
    {
      "metadata": {
        "id": "dM0euw1eZm7B",
        "colab_type": "code",
        "colab": {}
      },
      "cell_type": "code",
      "source": [
        "# Cleaning up the directories\n",
        "####### ONLY USE WHILE CLEANING UP ########\n",
        "!rm -rf \"/content/101_ObjectCategories\"\n",
        "!rm -rf \"/content/ModelData\"\n",
        "!rm -rf \"/content/TrainingData\"\n",
        "!rm -rf \"/content/101_ObjectCategories.tar.gz\""
      ],
      "execution_count": 0,
      "outputs": []
    },
    {
      "metadata": {
        "id": "5fiuEsIYddcD",
        "colab_type": "code",
        "colab": {}
      },
      "cell_type": "code",
      "source": [
        "# Download 101 Objects Database\n",
        "!curl -O http://www.vision.caltech.edu/Image_Datasets/Caltech101/101_ObjectCategories.tar.gz\n",
        "!tar -C /content -zxvf /content/\"101_ObjectCategories.tar.gz\"  "
      ],
      "execution_count": 0,
      "outputs": []
    },
    {
      "metadata": {
        "id": "KlO4miLGeqVF",
        "colab_type": "code",
        "colab": {}
      },
      "cell_type": "code",
      "source": [
        "import numpy as np\n",
        "import os\n",
        "import random\n",
        "import shutil\n",
        "\n",
        "def chooseRandomFiles(dir):\n",
        "  \n",
        "  # print(\"dir is \" + dir)\n",
        "  # print (os.listdir(dir))\n",
        "  # list all files in dir\n",
        "  files = os.listdir(dir)\n",
        "\n",
        "  # select 0.1 of the files randomly \n",
        "  # random_files = np.random.choice(files, int(len(files)*.1))\n",
        "  # Select 10 random files \n",
        "  random_files = random.sample(files, 10)\n",
        "  #print (random_files)\n",
        "  \n",
        "  return random_files\n",
        "  \n",
        "src_dir = \"/content/101_ObjectCategories\"\n",
        "test_dir = \"/content/ModelData/test\"\n",
        "train_dir = \"/content/ModelData/train\"\n",
        "\n",
        "# Walk the directory tree recursively and store subdirectories\n",
        "# in a list.\n",
        "dir_list = []\n",
        "for path, subdirs, files in os.walk(src_dir):\n",
        "  for name in subdirs:\n",
        "      #print(os.path.join(src_dir, name))\n",
        "      dir_list.append(os.path.join(src_dir, name))\n",
        "#print (dir_list)\n",
        "\n",
        "full_path = []\n",
        "# Select full source path of the files to move\n",
        "for dir in dir_list:\n",
        "  files = chooseRandomFiles(dir)\n",
        "  for file in files:\n",
        "    full_path.append(os.path.join(dir,file))\n",
        "    #print(full_path)\n",
        "    \n",
        "# Move files from source to test\n",
        "\n",
        "for path in full_path:\n",
        "  # print(path.split(sep='/'))\n",
        "  # ['', 'content', '101_ObjectCategories', 'stapler', 'image_0036.jpg']\n",
        "  src_path = path\n",
        "  print(\"src_path:\" + src_path)\n",
        "  temp_dest_path = path.split(sep='/')\n",
        "  \n",
        "  test_path = os.path.join(test_dir, temp_dest_path[-2], temp_dest_path[-1] )\n",
        "  print(\"test_path:\" + test_path)\n",
        "  \n",
        "  os.renames(src_path, test_path)\n",
        "  \n",
        "\n",
        "# Copy rest of the file from source to train\n",
        "try:\n",
        "  shutil.copytree(src_dir, train_dir)\n",
        "  # Directories are the same\n",
        "except shutil.Error as e:\n",
        "  print('Directory not copied. Error: %s' % e)\n",
        "  # Any error saying that the directory doesn't exist\n",
        "except OSError as e:\n",
        "  print('Directory not copied. Error: %s' % e)"
      ],
      "execution_count": 0,
      "outputs": []
    },
    {
      "metadata": {
        "id": "xnmiXKm2cxGY",
        "colab_type": "code",
        "colab": {}
      },
      "cell_type": "code",
      "source": [
        "# src = \"/content/101_ObjectCategories\"\n",
        "# train = \"/content/ModelData/train\"\n",
        "# test  = \"/content/ModelData/test\"\n",
        "\n",
        "# copyDirectory(src, train)\n",
        "\n",
        "dir = \"/content/TrainingData/test\"\n",
        "random_files = chooseRandomFiles(dir)\n",
        "\n",
        "\n"
      ],
      "execution_count": 0,
      "outputs": []
    },
    {
      "metadata": {
        "id": "tabZP_d5gVmB",
        "colab_type": "code",
        "colab": {}
      },
      "cell_type": "code",
      "source": [
        "#Prepare Input Data and Output Data\n",
        "\n",
        "def prepare_input_data(X_train, X_test):\n",
        "    X_train = X_train.astype('float32') / 255.0\n",
        "    X_test = X_test.astype('float32') / 255.0\n",
        "    return X_train, X_test\n",
        "  \n",
        "def prepare_output_data(y_train, y_test):\n",
        "    y_train = np_utils.to_categorical(y_train)\n",
        "    y_test = np_utils.to_categorical(y_test)\n",
        "    return y_train, y_test"
      ],
      "execution_count": 0,
      "outputs": []
    },
    {
      "metadata": {
        "id": "OHlWlMSCffqN",
        "colab_type": "code",
        "colab": {}
      },
      "cell_type": "code",
      "source": [
        "## Get label map from train generator\n",
        "\n",
        "label_map = (train_generator.class_indices)\n",
        "label_map\n",
        "\n",
        "## Invert the map so that you can look up by class later\n",
        "\n",
        "inv_label_map = dict([[v,k] for k,v in label_map.items()])\n",
        "inv_label_map"
      ],
      "execution_count": 0,
      "outputs": []
    }
  ]
}