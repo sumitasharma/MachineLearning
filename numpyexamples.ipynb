{
  "nbformat": 4,
  "nbformat_minor": 0,
  "metadata": {
    "colab": {
      "name": "numpyexamples.ipynb",
      "version": "0.3.2",
      "provenance": [],
      "include_colab_link": true
    },
    "kernelspec": {
      "name": "python3",
      "display_name": "Python 3"
    }
  },
  "cells": [
    {
      "cell_type": "markdown",
      "metadata": {
        "id": "view-in-github",
        "colab_type": "text"
      },
      "source": [
        "<a href=\"https://colab.research.google.com/github/sumitasharma/MachineLearning/blob/master/numpyexamples.ipynb\" target=\"_parent\"><img src=\"https://colab.research.google.com/assets/colab-badge.svg\" alt=\"Open In Colab\"/></a>"
      ]
    },
    {
      "metadata": {
        "id": "vtZlebAUClua",
        "colab_type": "code",
        "colab": {}
      },
      "cell_type": "code",
      "source": [
        "!pip install numpy"
      ],
      "execution_count": 0,
      "outputs": []
    },
    {
      "metadata": {
        "id": "60tRHPp5Wq3-",
        "colab_type": "code",
        "colab": {}
      },
      "cell_type": "code",
      "source": [
        "import numpy as np\n",
        "import time"
      ],
      "execution_count": 0,
      "outputs": []
    },
    {
      "metadata": {
        "id": "QorGjxCrUgGa",
        "colab_type": "code",
        "colab": {}
      },
      "cell_type": "code",
      "source": [
        "x = 2000000\n",
        "y = 3000000\n",
        "\n",
        "start = time.time()\n",
        "z = x*y\n",
        "print (z,\" time taken is \", time.time()-start)\n",
        "\n",
        "start=time.time()\n",
        "z = np.multiply(x,y)\n",
        "print(z,\" time taken is \", time.time()-start)\n"
      ],
      "execution_count": 0,
      "outputs": []
    },
    {
      "metadata": {
        "id": "kpuPWqw0Wznq",
        "colab_type": "code",
        "colab": {}
      },
      "cell_type": "code",
      "source": [
        "x = np.array([2,5,3,8,9])\n",
        "x"
      ],
      "execution_count": 0,
      "outputs": []
    },
    {
      "metadata": {
        "id": "sIrVz09JE-k-",
        "colab_type": "code",
        "colab": {}
      },
      "cell_type": "code",
      "source": [
        "print(x)"
      ],
      "execution_count": 0,
      "outputs": []
    },
    {
      "metadata": {
        "id": "nSjl5uFAFDWX",
        "colab_type": "code",
        "colab": {}
      },
      "cell_type": "code",
      "source": [
        "print(type(x))\n",
        "\n",
        "x.shape"
      ],
      "execution_count": 0,
      "outputs": []
    },
    {
      "metadata": {
        "id": "kuSsgW3hFaTu",
        "colab_type": "code",
        "colab": {}
      },
      "cell_type": "code",
      "source": [
        "x.dtype"
      ],
      "execution_count": 0,
      "outputs": []
    },
    {
      "metadata": {
        "id": "7B7B1o_xXpk4",
        "colab_type": "code",
        "colab": {}
      },
      "cell_type": "code",
      "source": [
        "#two dimentional array\n",
        "\n",
        "y = np.array( [ [3,5,4],[1,2,8],[6,5,10],[12,0,3] ] )\n",
        "\n",
        "print(y)\n",
        "\n",
        "\n",
        "print(type(y))\n",
        "\n",
        "y.size"
      ],
      "execution_count": 0,
      "outputs": []
    },
    {
      "metadata": {
        "id": "r_jBf6eQGK14",
        "colab_type": "code",
        "colab": {}
      },
      "cell_type": "code",
      "source": [
        "y.dtype"
      ],
      "execution_count": 0,
      "outputs": []
    },
    {
      "metadata": {
        "id": "UNXzhbzvF9-R",
        "colab_type": "code",
        "colab": {}
      },
      "cell_type": "code",
      "source": [
        "y.shape"
      ],
      "execution_count": 0,
      "outputs": []
    },
    {
      "metadata": {
        "id": "ytmwtcDmY05w",
        "colab_type": "code",
        "colab": {}
      },
      "cell_type": "code",
      "source": [
        "#string arrays\n",
        "\n",
        "z = np.array([[['Hello','123'],['Fine','Train'],['Test','Model']] , [['Pre','Post'],['Before','After'],['True','False']]])\n",
        "print(z)\n",
        "print(type(z))\n",
        "z.dtype"
      ],
      "execution_count": 0,
      "outputs": []
    },
    {
      "metadata": {
        "id": "wnsrSSJFZ6x9",
        "colab_type": "code",
        "colab": {}
      },
      "cell_type": "code",
      "source": [
        "z.shape"
      ],
      "execution_count": 0,
      "outputs": []
    },
    {
      "metadata": {
        "id": "gdVumfg-Zx-r",
        "colab_type": "code",
        "colab": {}
      },
      "cell_type": "code",
      "source": [
        "z.size"
      ],
      "execution_count": 0,
      "outputs": []
    },
    {
      "metadata": {
        "id": "yDkM5OGjaMkn",
        "colab_type": "code",
        "colab": {}
      },
      "cell_type": "code",
      "source": [
        "# creating a numpy of a particular type\n",
        "\n",
        "a = np.array([1 , 2.045 , 4.1 , 3.99],dtype=np.int64)\n",
        "print(a)"
      ],
      "execution_count": 0,
      "outputs": []
    },
    {
      "metadata": {
        "id": "flcYnwzyhojT",
        "colab_type": "code",
        "colab": {}
      },
      "cell_type": "code",
      "source": [
        "#saving array for later and using it from a file\n",
        "np.save(\"save_array\",a)\n",
        "b = np.load(\"save_array.npy\")\n",
        "print(b)"
      ],
      "execution_count": 0,
      "outputs": []
    },
    {
      "metadata": {
        "id": "ijdKSrqjif8U",
        "colab_type": "code",
        "colab": {}
      },
      "cell_type": "code",
      "source": [
        "#using in-built functions\n",
        "x = np.zeros((3,4))\n",
        "print(x)"
      ],
      "execution_count": 0,
      "outputs": []
    },
    {
      "metadata": {
        "id": "AEq4sYQ7i1d6",
        "colab_type": "code",
        "colab": {}
      },
      "cell_type": "code",
      "source": [
        "x = np.ones((4,5),dtype=np.int64)\n",
        "print(x)"
      ],
      "execution_count": 0,
      "outputs": []
    },
    {
      "metadata": {
        "id": "kZyKbfLGy8h6",
        "colab_type": "code",
        "colab": {}
      },
      "cell_type": "code",
      "source": [
        "x = np.full((5,4),3)\n",
        "print(x)"
      ],
      "execution_count": 0,
      "outputs": []
    },
    {
      "metadata": {
        "id": "rxYxeaR8zMJi",
        "colab_type": "code",
        "colab": {}
      },
      "cell_type": "code",
      "source": [
        "x = np.eye(3)\n",
        "print(x)"
      ],
      "execution_count": 0,
      "outputs": []
    },
    {
      "metadata": {
        "id": "qEmrEmomzkX5",
        "colab_type": "code",
        "colab": {}
      },
      "cell_type": "code",
      "source": [
        "x = np.diag([30,20,9,5])\n",
        "print(x)"
      ],
      "execution_count": 0,
      "outputs": []
    },
    {
      "metadata": {
        "id": "3GPg7hG513E3",
        "colab_type": "code",
        "colab": {}
      },
      "cell_type": "code",
      "source": [
        "#arange array\n",
        "\n",
        "x = np.arange(5,50)\n",
        "print(x)\n",
        "\n",
        "x = np.arange(1,10,2)\n",
        "print(x)"
      ],
      "execution_count": 0,
      "outputs": []
    },
    {
      "metadata": {
        "id": "a7tjl9Fu505L",
        "colab_type": "code",
        "colab": {}
      },
      "cell_type": "code",
      "source": [
        "x = np.linspace(1,30,40, endpoint=False)\n",
        "print(x)"
      ],
      "execution_count": 0,
      "outputs": []
    },
    {
      "metadata": {
        "id": "-NW9Fe0z6l-V",
        "colab_type": "code",
        "colab": {}
      },
      "cell_type": "code",
      "source": [
        "x = np.linspace(0,10,20).reshape(10,2)\n",
        "print(x)"
      ],
      "execution_count": 0,
      "outputs": []
    },
    {
      "metadata": {
        "id": "WxxLErsMbkOK",
        "colab_type": "code",
        "colab": {}
      },
      "cell_type": "code",
      "source": [
        "# Access the array elements\n",
        "\n",
        "x = np.array([1,2,3,4,5])\n",
        "\n",
        "print(\"1st element is\",x[0])\n",
        "print(\"last element is\",x[4])\n",
        "\n",
        "print(\"1st element is\",x[-5])\n",
        "print(\"last element is\",x[-1])\n",
        "\n",
        "print(\"3rd element is\",x[2])"
      ],
      "execution_count": 0,
      "outputs": []
    },
    {
      "metadata": {
        "id": "z1b8XKRXcsUQ",
        "colab_type": "code",
        "colab": {}
      },
      "cell_type": "code",
      "source": [
        "# Manipulation of the numpy arrays\n",
        "\n",
        "x = np.arange(2,20).reshape(6,3)\n",
        "print(x,\"\\n\\n\")\n",
        "\n",
        "x[0][2]=9\n",
        "print(x)"
      ],
      "execution_count": 0,
      "outputs": []
    },
    {
      "metadata": {
        "id": "xFD6TRcidvfC",
        "colab_type": "code",
        "colab": {}
      },
      "cell_type": "code",
      "source": [
        "# Delete rows and columns\n",
        "\n",
        "x = np.array([[2,3,4],[10,3,8],[9,3,5]])\n",
        "y = np.array([[2,4,5],[5,7,2],[30,18,3],[3,70,10]])\n",
        "\n",
        "print(x,\"\\n\\n\")\n",
        "print(y,\"\\n\\n\")\n",
        "\n"
      ],
      "execution_count": 0,
      "outputs": []
    },
    {
      "metadata": {
        "id": "9TmO-apCLrZv",
        "colab_type": "code",
        "colab": {}
      },
      "cell_type": "code",
      "source": [
        "# Delete row\n",
        "print(np.delete(x,1,axis=0),\"\\n\\n\")\n",
        "# Delete column\n",
        "print(np.delete(y,0,axis=1))"
      ],
      "execution_count": 0,
      "outputs": []
    },
    {
      "metadata": {
        "id": "7uUPY3HNg4p5",
        "colab_type": "code",
        "colab": {}
      },
      "cell_type": "code",
      "source": [
        "# Appending a row\n",
        "print(np.append(x,[[4,3,1]], axis=0),\"\\n\\n\")\n",
        "\n",
        "# Appending a column\n",
        "print(np.append(x,[[0],[45],[22]], axis=1),\"\\n\\n\")"
      ],
      "execution_count": 0,
      "outputs": []
    },
    {
      "metadata": {
        "id": "pwBmaleDDOoP",
        "colab_type": "code",
        "colab": {}
      },
      "cell_type": "code",
      "source": [
        "print(x,\"\\n\\n\")\n",
        "\n",
        "\n",
        "\n",
        "# Inserting a row in between two rows\n",
        "print(np.insert(x,2,[10,5,7], axis=0),\"\\n\\n\")\n"
      ],
      "execution_count": 0,
      "outputs": []
    },
    {
      "metadata": {
        "id": "-vWoh4faORvZ",
        "colab_type": "code",
        "colab": {}
      },
      "cell_type": "code",
      "source": [
        "print(x,\"\\n\\n\")\n",
        "\n",
        "\n",
        "\n",
        "# Inserting a column in between two columns\n",
        "print(np.insert(x,1,0, axis=1))"
      ],
      "execution_count": 0,
      "outputs": []
    },
    {
      "metadata": {
        "id": "AjsS5CpIPHU-",
        "colab_type": "code",
        "colab": {}
      },
      "cell_type": "code",
      "source": [
        "# Stacking of arrays\n",
        "print(x,\"\\n\\n\")\n",
        "print(y,\"\\n\\n\")\n",
        "\n",
        "# x on top of y\n",
        "print(np.vstack((x,y)),\"\\n\\n\")"
      ],
      "execution_count": 0,
      "outputs": []
    },
    {
      "metadata": {
        "id": "ejQpVv_BQAl7",
        "colab_type": "code",
        "colab": {}
      },
      "cell_type": "code",
      "source": [
        "x = np.insert(x,3,0, axis=1)\n",
        "print(x,\"\\n\\n\")\n",
        "\n",
        "x = np.reshape(x,(4,3))\n",
        "print(x,\"\\n\\n\")\n",
        "\n",
        "# x on the side of y\n",
        "\n",
        "x = np.hstack((y,x))\n",
        "print(x,\"\\n\\n\")"
      ],
      "execution_count": 0,
      "outputs": []
    },
    {
      "metadata": {
        "id": "9ePOtDwrSjLp",
        "colab_type": "code",
        "colab": {}
      },
      "cell_type": "code",
      "source": [
        "# Selecting rows and columns from the ndarray\n",
        "\n",
        "print(x,\"\\n\\n\")\n",
        "\n",
        "# Select 3rd column till 5th column from 3rd row\n",
        "# Values [3,8,0]\n",
        "\n",
        "print(x[1:3,2:5],\"\\n\\n\")\n",
        "\n",
        "# Select 3rd column\n",
        "print(x[:,2],\"\\n\\n\")\n",
        "\n",
        "# Select 3rd row\n",
        "print(x[3,:])"
      ],
      "execution_count": 0,
      "outputs": []
    },
    {
      "metadata": {
        "id": "jIaz4vzxVmaJ",
        "colab_type": "code",
        "colab": {}
      },
      "cell_type": "code",
      "source": [
        "# Comapring arrays\n",
        "print(\"x :\")\n",
        "print(x,\"\\n\\n\")\n",
        "print(\"y :\")\n",
        "print(y,\"\\n\\n\")\n",
        "print('These elements are in both x and y', np.intersect1d(x,y),\"\\n\\n\")\n",
        "print('Elements in x not in y', np.setdiff1d(x,y),\"\\n\\n\")\n",
        "print('All elements of x and y:',np.union1d(x,y),\"\\n\\n\")"
      ],
      "execution_count": 0,
      "outputs": []
    },
    {
      "metadata": {
        "id": "hgf_CH_9XNiM",
        "colab_type": "code",
        "colab": {}
      },
      "cell_type": "code",
      "source": [
        "# Unsorted array of random integers\n",
        "z = np.random.randint(40,100,size=(6,2))\n",
        "\n",
        "print(z,\"\\n\\n\")\n",
        "\n",
        "# Sorted array\n",
        "print(np.sort(z, axis=0))"
      ],
      "execution_count": 0,
      "outputs": []
    },
    {
      "metadata": {
        "id": "Ksxs5sfoZNed",
        "colab_type": "code",
        "colab": {}
      },
      "cell_type": "code",
      "source": [
        "# Manipulations in array\n",
        "\n",
        "x = np.array([[2,4,3],[10,20,30],[7,5,6]])\n",
        "y = np.array([[1,1,1],[20,80,70],[50,4,5]])\n",
        "\n",
        "print('x :\\n',x,\"\\n\\n\")\n",
        "print('y :\\n',y,\"\\n\\n\")\n",
        "\n",
        "print('add(x,y) = \\n', np.add(x,y),\"\\n\\n\")\n",
        "print('subtract(x,y) = \\n', np.subtract(x,y),\"\\n\\n\")\n",
        "print('multiply(x,y) = \\n', np.multiply(x,y),\"\\n\\n\")\n",
        "print('divide(x,y) = \\n', np.divide(x,y),\"\\n\\n\")\n",
        "print('exp(x) = \\n', np.exp(x),\"\\n\\n\")\n",
        "print('sqrt(x) = \\n',np.sqrt(x),\"\\n\\n\")\n",
        "print('pow(x,2) = \\n',np.power(x,2))"
      ],
      "execution_count": 0,
      "outputs": []
    }
  ]
}